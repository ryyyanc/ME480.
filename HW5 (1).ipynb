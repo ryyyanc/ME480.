{
 "cells": [
  {
   "cell_type": "code",
   "execution_count": 50,
   "metadata": {},
   "outputs": [
    {
     "name": "stdout",
     "output_type": "stream",
     "text": [
      "x - Number of Holes: 1\n",
      "y - Number of Holes: 2\n"
     ]
    },
    {
     "data": {
      "application/vnd.jupyter.widget-view+json": {
       "model_id": "5615abf71f70400dbbfdae82ca23fc97",
       "version_major": 2,
       "version_minor": 0
      },
      "text/plain": [
       "VBox(children=(HTML(value=''), Renderer(background='#cccc88', background_opacity=0.0, camera=PerspectiveCamera…"
      ]
     },
     "metadata": {},
     "output_type": "display_data"
    }
   ],
   "source": [
    "r = viewscad.Renderer(openscad_exec='C:\\Program Files\\OpenSCAD\\openscad.exe')\n",
    "from solid import *\n",
    "from solid.utils import *\n",
    "import numpy as np\n",
    "import this\n",
    "import viewscad\n",
    "\n",
    "x= int( input(\"x - Number of Holes: \"))\n",
    "y= int( input(\"y - Number of Holes: \"))\n",
    "xx=(x-1)*7.97\n",
    "yy=(y-1)*7.97\n",
    "\n",
    "c1 = cylinder(3.69,1)\n",
    "c2 = translate([xx,yy,0])(c1)\n",
    "c3 = translate([0,yy,0])(c1)\n",
    "c4 = translate([xx,0,0])(c1)\n",
    "b = hull()(c1,c2,c3,c4)     #Base\n",
    "\n",
    "xi=np.linspace(0,xx,x).tolist()\n",
    "yi=np.linspace(0,yy,y).tolist()\n",
    "\n",
    "ct=translate([0,0,1])(cylinder(r=2.35,h=7.76))\n",
    "#r.render(ct)\n",
    "\n",
    "cm=0\n",
    "for x in xi:\n",
    "    for y in yi:\n",
    "        cm=cm+translate([x,y,0])(ct)\n",
    "#r.render(cm)\n",
    "\n",
    "\n",
    "t = b + cm\n",
    "r.render(t)"
   ]
  },
  {
   "cell_type": "code",
   "execution_count": 51,
   "metadata": {},
   "outputs": [
    {
     "name": "stdout",
     "output_type": "stream",
     "text": [
      "x - Number of Holes: 1\n",
      "y - Number of Holes: 2\n"
     ]
    },
    {
     "data": {
      "application/vnd.jupyter.widget-view+json": {
       "model_id": "329824ceb2c44a07855c01acb5c5aa7f",
       "version_major": 2,
       "version_minor": 0
      },
      "text/plain": [
       "VBox(children=(HTML(value=''), Renderer(background='#cccc88', background_opacity=0.0, camera=PerspectiveCamera…"
      ]
     },
     "metadata": {},
     "output_type": "display_data"
    }
   ],
   "source": [
    "r = viewscad.Renderer(openscad_exec='C:\\Program Files\\OpenSCAD\\openscad.exe')\n",
    "from solid import *\n",
    "from solid.utils import *\n",
    "import numpy as np\n",
    "import this\n",
    "import viewscad\n",
    "\n",
    "x= int( input(\"x - Number of Holes: \"))\n",
    "y= int( input(\"y - Number of Holes: \"))\n",
    "xx=(x-1)*7.97\n",
    "yy=(y-1)*7.97\n",
    "\n",
    "c1 = cylinder(3.69,7.76)\n",
    "c2 = translate([xx,yy,0])(c1)\n",
    "c3 = translate([0,yy,0])(c1)\n",
    "c4 = translate([xx,0,0])(c1)\n",
    "b = hull()(c1,c2,c3,c4)     #Base\n",
    "\n",
    "xi=np.linspace(0,xx,x).tolist()\n",
    "yi=np.linspace(0,yy,y).tolist()\n",
    "\n",
    "cc = cylinder(r=2.4,h=7.76)\n",
    "cb = cylinder(r=3.1,h=0.8)\n",
    "c=cc + cb\n",
    "ct=translate([0,0,6.96])(cylinder(r=3.1,h=0.8))+c\n",
    "#r.render(ct)\n",
    "\n",
    "cm=0\n",
    "for x in xi:\n",
    "    for y in yi:\n",
    "        cm=cm+translate([x,y,0])(ct)\n",
    "#r.render(cm)\n",
    "\n",
    "\n",
    "t = b - cm\n",
    "r.render(t)"
   ]
  },
  {
   "cell_type": "code",
   "execution_count": 54,
   "metadata": {},
   "outputs": [
    {
     "data": {
      "application/vnd.jupyter.widget-view+json": {
       "model_id": "b26064b0a97c4bd8a6f1038dae927728",
       "version_major": 2,
       "version_minor": 0
      },
      "text/plain": [
       "VBox(children=(HTML(value=''), Renderer(background='#cccc88', background_opacity=0.0, camera=PerspectiveCamera…"
      ]
     },
     "metadata": {},
     "output_type": "display_data"
    }
   ],
   "source": [
    "#mount\n",
    "\n",
    "c1 = cylinder(r=2.4,h=18)\n",
    "c2 = cylinder(r=3,h=10)\n",
    "c3 = cylinder(r=2.5,h=8)\n",
    "c=c1 + c2 - c3\n",
    "\n",
    "r.render(c)"
   ]
  }
 ],
 "metadata": {
  "kernelspec": {
   "display_name": "Python 3",
   "language": "python",
   "name": "python3"
  },
  "language_info": {
   "codemirror_mode": {
    "name": "ipython",
    "version": 3
   },
   "file_extension": ".py",
   "mimetype": "text/x-python",
   "name": "python",
   "nbconvert_exporter": "python",
   "pygments_lexer": "ipython3",
   "version": "3.7.4"
  }
 },
 "nbformat": 4,
 "nbformat_minor": 2
}
