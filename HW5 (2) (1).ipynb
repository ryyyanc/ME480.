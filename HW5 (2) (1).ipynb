{
 "cells": [
  {
   "cell_type": "code",
   "execution_count": 4,
   "metadata": {},
   "outputs": [
    {
     "name": "stdout",
     "output_type": "stream",
     "text": [
      "Requirement already satisfied: solidpython in c:\\users\\ryans\\anaconda3\\lib\\site-packages (0.4.4)\n",
      "Requirement already satisfied: pypng<0.0.20,>=0.0.19 in c:\\users\\ryans\\anaconda3\\lib\\site-packages (from solidpython) (0.0.19)\n",
      "Requirement already satisfied: PrettyTable==0.7.2 in c:\\users\\ryans\\anaconda3\\lib\\site-packages (from solidpython) (0.7.2)\n",
      "Requirement already satisfied: euclid3<0.2.0,>=0.1.0 in c:\\users\\ryans\\anaconda3\\lib\\site-packages (from solidpython) (0.1)\n",
      "Requirement already satisfied: regex<2020.0,>=2019.4 in c:\\users\\ryans\\anaconda3\\lib\\site-packages (from solidpython) (2019.11.1)\n",
      "Note: you may need to restart the kernel to use updated packages.\n"
     ]
    }
   ],
   "source": [
    "pip install solidpython"
   ]
  },
  {
   "cell_type": "code",
   "execution_count": 8,
   "metadata": {},
   "outputs": [
    {
     "name": "stdout",
     "output_type": "stream",
     "text": [
      "Requirement already satisfied: viewscad in c:\\users\\ryans\\anaconda3\\lib\\site-packages (0.2.0)\n",
      "Requirement already satisfied: jupyter in c:\\users\\ryans\\anaconda3\\lib\\site-packages (from viewscad) (1.0.0)\n",
      "Requirement already satisfied: solidpython in c:\\users\\ryans\\anaconda3\\lib\\site-packages (from viewscad) (0.4.4)\n",
      "Requirement already satisfied: jupyterlab in c:\\users\\ryans\\anaconda3\\lib\\site-packages (from viewscad) (1.1.4)\n",
      "Requirement already satisfied: ipywidgets in c:\\users\\ryans\\anaconda3\\lib\\site-packages (from viewscad) (7.5.1)\n",
      "Requirement already satisfied: pythreejs in c:\\users\\ryans\\anaconda3\\lib\\site-packages (from viewscad) (2.1.1)\n",
      "Requirement already satisfied: jupyter-console in c:\\users\\ryans\\anaconda3\\lib\\site-packages (from jupyter->viewscad) (6.0.0)\n",
      "Requirement already satisfied: ipykernel in c:\\users\\ryans\\anaconda3\\lib\\site-packages (from jupyter->viewscad) (5.1.2)\n",
      "Requirement already satisfied: notebook in c:\\users\\ryans\\anaconda3\\lib\\site-packages (from jupyter->viewscad) (6.0.1)\n",
      "Requirement already satisfied: nbconvert in c:\\users\\ryans\\anaconda3\\lib\\site-packages (from jupyter->viewscad) (5.6.0)\n",
      "Requirement already satisfied: qtconsole in c:\\users\\ryans\\anaconda3\\lib\\site-packages (from jupyter->viewscad) (4.5.5)\n",
      "Requirement already satisfied: PrettyTable==0.7.2 in c:\\users\\ryans\\anaconda3\\lib\\site-packages (from solidpython->viewscad) (0.7.2)\n",
      "Requirement already satisfied: pypng<0.0.20,>=0.0.19 in c:\\users\\ryans\\anaconda3\\lib\\site-packages (from solidpython->viewscad) (0.0.19)\n",
      "Requirement already satisfied: regex<2020.0,>=2019.4 in c:\\users\\ryans\\anaconda3\\lib\\site-packages (from solidpython->viewscad) (2019.11.1)\n",
      "Requirement already satisfied: euclid3<0.2.0,>=0.1.0 in c:\\users\\ryans\\anaconda3\\lib\\site-packages (from solidpython->viewscad) (0.1)\n",
      "Requirement already satisfied: tornado!=6.0.0,!=6.0.1,!=6.0.2 in c:\\users\\ryans\\anaconda3\\lib\\site-packages (from jupyterlab->viewscad) (6.0.3)\n",
      "Requirement already satisfied: jupyterlab_server~=1.0.0 in c:\\users\\ryans\\anaconda3\\lib\\site-packages (from jupyterlab->viewscad) (1.0.6)\n",
      "Requirement already satisfied: jinja2>=2.10 in c:\\users\\ryans\\anaconda3\\lib\\site-packages (from jupyterlab->viewscad) (2.10.3)\n",
      "Requirement already satisfied: widgetsnbextension~=3.5.0 in c:\\users\\ryans\\anaconda3\\lib\\site-packages (from ipywidgets->viewscad) (3.5.1)\n",
      "Requirement already satisfied: nbformat>=4.2.0 in c:\\users\\ryans\\anaconda3\\lib\\site-packages (from ipywidgets->viewscad) (4.4.0)\n",
      "Requirement already satisfied: ipython>=4.0.0; python_version >= \"3.3\" in c:\\users\\ryans\\anaconda3\\lib\\site-packages (from ipywidgets->viewscad) (7.8.0)\n",
      "Requirement already satisfied: traitlets>=4.3.1 in c:\\users\\ryans\\anaconda3\\lib\\site-packages (from ipywidgets->viewscad) (4.3.3)\n",
      "Requirement already satisfied: numpy in c:\\users\\ryans\\anaconda3\\lib\\site-packages (from pythreejs->viewscad) (1.16.5)\n",
      "Requirement already satisfied: ipydatawidgets>=1.1.1 in c:\\users\\ryans\\anaconda3\\lib\\site-packages (from pythreejs->viewscad) (4.0.1)\n",
      "Requirement already satisfied: jupyter_client in c:\\users\\ryans\\anaconda3\\lib\\site-packages (from jupyter-console->jupyter->viewscad) (5.3.3)\n",
      "Requirement already satisfied: prompt_toolkit<2.1.0,>=2.0.0 in c:\\users\\ryans\\anaconda3\\lib\\site-packages (from jupyter-console->jupyter->viewscad) (2.0.10)\n",
      "Requirement already satisfied: pygments in c:\\users\\ryans\\anaconda3\\lib\\site-packages (from jupyter-console->jupyter->viewscad) (2.4.2)\n",
      "Requirement already satisfied: terminado>=0.8.1 in c:\\users\\ryans\\anaconda3\\lib\\site-packages (from notebook->jupyter->viewscad) (0.8.2)\n",
      "Requirement already satisfied: ipython-genutils in c:\\users\\ryans\\anaconda3\\lib\\site-packages (from notebook->jupyter->viewscad) (0.2.0)\n",
      "Requirement already satisfied: Send2Trash in c:\\users\\ryans\\anaconda3\\lib\\site-packages (from notebook->jupyter->viewscad) (1.5.0)\n",
      "Requirement already satisfied: prometheus-client in c:\\users\\ryans\\anaconda3\\lib\\site-packages (from notebook->jupyter->viewscad) (0.7.1)\n",
      "Requirement already satisfied: jupyter-core>=4.4.0 in c:\\users\\ryans\\anaconda3\\lib\\site-packages (from notebook->jupyter->viewscad) (4.5.0)\n",
      "Requirement already satisfied: pyzmq>=17 in c:\\users\\ryans\\anaconda3\\lib\\site-packages (from notebook->jupyter->viewscad) (18.1.0)\n",
      "Requirement already satisfied: mistune<2,>=0.8.1 in c:\\users\\ryans\\anaconda3\\lib\\site-packages (from nbconvert->jupyter->viewscad) (0.8.4)\n",
      "Requirement already satisfied: bleach in c:\\users\\ryans\\anaconda3\\lib\\site-packages (from nbconvert->jupyter->viewscad) (3.1.0)\n",
      "Requirement already satisfied: defusedxml in c:\\users\\ryans\\anaconda3\\lib\\site-packages (from nbconvert->jupyter->viewscad) (0.6.0)\n",
      "Requirement already satisfied: pandocfilters>=1.4.1 in c:\\users\\ryans\\anaconda3\\lib\\site-packages (from nbconvert->jupyter->viewscad) (1.4.2)\n",
      "Requirement already satisfied: testpath in c:\\users\\ryans\\anaconda3\\lib\\site-packages (from nbconvert->jupyter->viewscad) (0.4.2)\n",
      "Requirement already satisfied: entrypoints>=0.2.2 in c:\\users\\ryans\\anaconda3\\lib\\site-packages (from nbconvert->jupyter->viewscad) (0.3)\n",
      "Requirement already satisfied: jsonschema>=3.0.1 in c:\\users\\ryans\\anaconda3\\lib\\site-packages (from jupyterlab_server~=1.0.0->jupyterlab->viewscad) (3.0.2)\n",
      "Requirement already satisfied: json5 in c:\\users\\ryans\\anaconda3\\lib\\site-packages (from jupyterlab_server~=1.0.0->jupyterlab->viewscad) (0.8.5)\n",
      "Requirement already satisfied: MarkupSafe>=0.23 in c:\\users\\ryans\\anaconda3\\lib\\site-packages (from jinja2>=2.10->jupyterlab->viewscad) (1.1.1)\n",
      "Requirement already satisfied: jedi>=0.10 in c:\\users\\ryans\\anaconda3\\lib\\site-packages (from ipython>=4.0.0; python_version >= \"3.3\"->ipywidgets->viewscad) (0.15.1)\n",
      "Requirement already satisfied: setuptools>=18.5 in c:\\users\\ryans\\anaconda3\\lib\\site-packages (from ipython>=4.0.0; python_version >= \"3.3\"->ipywidgets->viewscad) (41.4.0)\n",
      "Requirement already satisfied: backcall in c:\\users\\ryans\\anaconda3\\lib\\site-packages (from ipython>=4.0.0; python_version >= \"3.3\"->ipywidgets->viewscad) (0.1.0)\n",
      "Requirement already satisfied: colorama; sys_platform == \"win32\" in c:\\users\\ryans\\anaconda3\\lib\\site-packages (from ipython>=4.0.0; python_version >= \"3.3\"->ipywidgets->viewscad) (0.4.1)\n",
      "Requirement already satisfied: pickleshare in c:\\users\\ryans\\anaconda3\\lib\\site-packages (from ipython>=4.0.0; python_version >= \"3.3\"->ipywidgets->viewscad) (0.7.5)\n",
      "Requirement already satisfied: decorator in c:\\users\\ryans\\anaconda3\\lib\\site-packages (from ipython>=4.0.0; python_version >= \"3.3\"->ipywidgets->viewscad) (4.4.0)\n",
      "Requirement already satisfied: six in c:\\users\\ryans\\anaconda3\\lib\\site-packages (from traitlets>=4.3.1->ipywidgets->viewscad) (1.12.0)\n",
      "Requirement already satisfied: traittypes>=0.2.0 in c:\\users\\ryans\\anaconda3\\lib\\site-packages (from ipydatawidgets>=1.1.1->pythreejs->viewscad) (0.2.1)\n",
      "Requirement already satisfied: pywin32>=1.0; sys_platform == \"win32\" in c:\\users\\ryans\\anaconda3\\lib\\site-packages (from jupyter_client->jupyter-console->jupyter->viewscad) (223)\n",
      "Requirement already satisfied: python-dateutil>=2.1 in c:\\users\\ryans\\anaconda3\\lib\\site-packages (from jupyter_client->jupyter-console->jupyter->viewscad) (2.8.0)\n",
      "Requirement already satisfied: wcwidth in c:\\users\\ryans\\anaconda3\\lib\\site-packages (from prompt_toolkit<2.1.0,>=2.0.0->jupyter-console->jupyter->viewscad) (0.1.7)\n",
      "Requirement already satisfied: webencodings in c:\\users\\ryans\\anaconda3\\lib\\site-packages (from bleach->nbconvert->jupyter->viewscad) (0.5.1)\n",
      "Requirement already satisfied: attrs>=17.4.0 in c:\\users\\ryans\\anaconda3\\lib\\site-packages (from jsonschema>=3.0.1->jupyterlab_server~=1.0.0->jupyterlab->viewscad) (19.2.0)\n",
      "Requirement already satisfied: pyrsistent>=0.14.0 in c:\\users\\ryans\\anaconda3\\lib\\site-packages (from jsonschema>=3.0.1->jupyterlab_server~=1.0.0->jupyterlab->viewscad) (0.15.4)\n",
      "Requirement already satisfied: parso>=0.5.0 in c:\\users\\ryans\\anaconda3\\lib\\site-packages (from jedi>=0.10->ipython>=4.0.0; python_version >= \"3.3\"->ipywidgets->viewscad) (0.5.1)\n",
      "Note: you may need to restart the kernel to use updated packages.\n"
     ]
    }
   ],
   "source": [
    "pip install viewscad"
   ]
  },
  {
   "cell_type": "code",
   "execution_count": 9,
   "metadata": {},
   "outputs": [
    {
     "name": "stdout",
     "output_type": "stream",
     "text": [
      "The Zen of Python, by Tim Peters\n",
      "\n",
      "Beautiful is better than ugly.\n",
      "Explicit is better than implicit.\n",
      "Simple is better than complex.\n",
      "Complex is better than complicated.\n",
      "Flat is better than nested.\n",
      "Sparse is better than dense.\n",
      "Readability counts.\n",
      "Special cases aren't special enough to break the rules.\n",
      "Although practicality beats purity.\n",
      "Errors should never pass silently.\n",
      "Unless explicitly silenced.\n",
      "In the face of ambiguity, refuse the temptation to guess.\n",
      "There should be one-- and preferably only one --obvious way to do it.\n",
      "Although that way may not be obvious at first unless you're Dutch.\n",
      "Now is better than never.\n",
      "Although never is often better than *right* now.\n",
      "If the implementation is hard to explain, it's a bad idea.\n",
      "If the implementation is easy to explain, it may be a good idea.\n",
      "Namespaces are one honking great idea -- let's do more of those!\n",
      "x - Number of Holes: 1\n",
      "y - Number of Holes: 2\n"
     ]
    },
    {
     "data": {
      "application/vnd.jupyter.widget-view+json": {
       "model_id": "f07bba6b8a524acb8845dc66db4e3861",
       "version_major": 2,
       "version_minor": 0
      },
      "text/plain": [
       "VBox(children=(HTML(value=''), Renderer(background='#cccc88', background_opacity=0.0, camera=PerspectiveCamera…"
      ]
     },
     "metadata": {},
     "output_type": "display_data"
    }
   ],
   "source": [
    "import viewscad\n",
    "r = viewscad.Renderer(openscad_exec='C:\\Program Files\\OpenSCAD\\openscad.exe')\n",
    "from solid import *\n",
    "from solid.utils import *\n",
    "import numpy as np\n",
    "import this\n",
    "import viewscad\n",
    "\n",
    "x= int( input(\"x - Number of Holes: \"))\n",
    "y= int( input(\"y - Number of Holes: \"))\n",
    "xx=(x-1)*7.97\n",
    "yy=(y-1)*7.97\n",
    "\n",
    "c1 = cylinder(3.69,1)\n",
    "c2 = translate([xx,yy,0])(c1)\n",
    "c3 = translate([0,yy,0])(c1)\n",
    "c4 = translate([xx,0,0])(c1)\n",
    "b = hull()(c1,c2,c3,c4)     #Base\n",
    "\n",
    "xi=np.linspace(0,xx,x).tolist()\n",
    "yi=np.linspace(0,yy,y).tolist()\n",
    "\n",
    "ct=translate([0,0,1])(cylinder(r=2.35,h=7.76))\n",
    "#r.render(ct)\n",
    "\n",
    "cm=0\n",
    "for x in xi:\n",
    "    for y in yi:\n",
    "        cm=cm+translate([x,y,0])(ct)\n",
    "#r.render(cm)\n",
    "\n",
    "\n",
    "t = b + cm\n",
    "r.render(t)"
   ]
  },
  {
   "cell_type": "code",
   "execution_count": 10,
   "metadata": {},
   "outputs": [
    {
     "name": "stdout",
     "output_type": "stream",
     "text": [
      "x - Number of Holes: 1\n",
      "y - Number of Holes: 2\n"
     ]
    },
    {
     "data": {
      "application/vnd.jupyter.widget-view+json": {
       "model_id": "f30ca99c6a5546f295b768a7e8662d70",
       "version_major": 2,
       "version_minor": 0
      },
      "text/plain": [
       "VBox(children=(HTML(value=''), Renderer(background='#cccc88', background_opacity=0.0, camera=PerspectiveCamera…"
      ]
     },
     "metadata": {},
     "output_type": "display_data"
    }
   ],
   "source": [
    "import viewscad\n",
    "r = viewscad.Renderer(openscad_exec='C:\\Program Files\\OpenSCAD\\openscad.exe')\n",
    "from solid import *\n",
    "from solid.utils import *\n",
    "import numpy as np\n",
    "import this\n",
    "\n",
    "\n",
    "x= int( input(\"x - Number of Holes: \"))\n",
    "y= int( input(\"y - Number of Holes: \"))\n",
    "xx=(x-1)*7.97\n",
    "yy=(y-1)*7.97\n",
    "\n",
    "c1 = cylinder(3.69,7.76)\n",
    "c2 = translate([xx,yy,0])(c1)\n",
    "c3 = translate([0,yy,0])(c1)\n",
    "c4 = translate([xx,0,0])(c1)\n",
    "b = hull()(c1,c2,c3,c4)     #Base\n",
    "\n",
    "xi=np.linspace(0,xx,x).tolist()\n",
    "yi=np.linspace(0,yy,y).tolist()\n",
    "\n",
    "cc = cylinder(r=2.4,h=7.76)\n",
    "cb = cylinder(r=3.1,h=0.8)\n",
    "c=cc + cb\n",
    "ct=translate([0,0,6.96])(cylinder(r=3.1,h=0.8))+c\n",
    "#r.render(ct)\n",
    "\n",
    "cm=0\n",
    "for x in xi:\n",
    "    for y in yi:\n",
    "        cm=cm+translate([x,y,0])(ct)\n",
    "#r.render(cm)\n",
    "\n",
    "\n",
    "t = b - cm\n",
    "r.render(t)"
   ]
  },
  {
   "cell_type": "code",
   "execution_count": 11,
   "metadata": {},
   "outputs": [
    {
     "data": {
      "application/vnd.jupyter.widget-view+json": {
       "model_id": "d114d94d61284d288e79304ed9ec09ab",
       "version_major": 2,
       "version_minor": 0
      },
      "text/plain": [
       "VBox(children=(HTML(value=''), Renderer(background='#cccc88', background_opacity=0.0, camera=PerspectiveCamera…"
      ]
     },
     "metadata": {},
     "output_type": "display_data"
    }
   ],
   "source": [
    "#adapter/coupler\n",
    "\n",
    "c1 = cylinder(r=2.4,h=18)\n",
    "c2 = cylinder(r=3,h=10)\n",
    "c3 = cylinder(r=2.5,h=8)\n",
    "c=c1 + c2 - c3\n",
    "\n",
    "r.render(c)"
   ]
  },
  {
   "cell_type": "code",
   "execution_count": null,
   "metadata": {},
   "outputs": [],
   "source": []
  }
 ],
 "metadata": {
  "kernelspec": {
   "display_name": "Python 3",
   "language": "python",
   "name": "python3"
  },
  "language_info": {
   "codemirror_mode": {
    "name": "ipython",
    "version": 3
   },
   "file_extension": ".py",
   "mimetype": "text/x-python",
   "name": "python",
   "nbconvert_exporter": "python",
   "pygments_lexer": "ipython3",
   "version": "3.7.4"
  }
 },
 "nbformat": 4,
 "nbformat_minor": 2
}
